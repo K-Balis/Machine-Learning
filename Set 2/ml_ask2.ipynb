{
 "cells": [
  {
   "cell_type": "code",
   "execution_count": 44,
   "id": "d3a08b17",
   "metadata": {},
   "outputs": [],
   "source": [
    "import random\n",
    "import matplotlib.pyplot as plt\n",
    "import matplotlib.image as mpimg\n",
    "import glob\n",
    "from PIL import Image\n",
    "import numpy as np\n",
    "from sklearn.decomposition import PCA\n",
    "from sklearn.cluster import KMeans\n",
    "from sklearn.cluster import AgglomerativeClustering"
   ]
  },
  {
   "cell_type": "code",
   "execution_count": 45,
   "id": "2fb267c7",
   "metadata": {
    "scrolled": true
   },
   "outputs": [],
   "source": [
    "randomlist =[]\n",
    "\n",
    "for i in range(0,10):\n",
    "    randomlist.append(random.randint(0,3999))"
   ]
  },
  {
   "cell_type": "markdown",
   "id": "4dbe34a6",
   "metadata": {},
   "source": [
    "### Διαβασμα Εικονων και μετατροπη σε grayscale"
   ]
  },
  {
   "cell_type": "code",
   "execution_count": 46,
   "id": "780ea37b",
   "metadata": {},
   "outputs": [],
   "source": [
    "total_imgs = dict()\n",
    "for item in randomlist:\n",
    "    temp = []\n",
    "    nm_of_imgs=0\n",
    "    for filename in glob.glob(\"train_data/\"+str(item)+\"/*.jpg\"):\n",
    "        img = mpimg.imread(filename)\n",
    "        gray = np.dot(img[...,:3],[0.2989, 0.5870, 0.1140]) # conversion to grayscale\n",
    "        gray = np.reshape(gray, 4096)\n",
    "        temp.append(gray)\n",
    "        nm_of_imgs += 1\n",
    "        if nm_of_imgs==50:\n",
    "            break\n",
    "\n",
    "    total_imgs[item] = temp"
   ]
  },
  {
   "cell_type": "code",
   "execution_count": 47,
   "id": "25881238",
   "metadata": {},
   "outputs": [],
   "source": [
    "folders = []\n",
    "for folder in total_imgs:\n",
    "    images_of_folder = []\n",
    "    for img in total_imgs[folder]:\n",
    "        folders.append(img)"
   ]
  },
  {
   "cell_type": "code",
   "execution_count": 48,
   "id": "a43983ce",
   "metadata": {},
   "outputs": [],
   "source": [
    "all_photos = np.array(folders)"
   ]
  },
  {
   "cell_type": "markdown",
   "id": "4cdfe992",
   "metadata": {},
   "source": [
    "# Dimensionality Reduction Using PCA"
   ]
  },
  {
   "cell_type": "code",
   "execution_count": 49,
   "id": "40d06b51",
   "metadata": {},
   "outputs": [],
   "source": [
    "pca = PCA(n_components=100)\n",
    "pca_100 = pca.fit_transform(all_photos)\n",
    "\n",
    "pca = PCA(n_components=50)\n",
    "pca_50 = pca.fit_transform(all_photos)\n",
    "\n",
    "pca = PCA(n_components=25)\n",
    "pca_25 = pca.fit_transform(all_photos)"
   ]
  },
  {
   "cell_type": "markdown",
   "id": "06de1e4c",
   "metadata": {},
   "source": [
    "## Autoencoder με Aρχιτεκτονική d – d/4 - M – d/4 – d"
   ]
  },
  {
   "cell_type": "markdown",
   "id": "bab2800b",
   "metadata": {},
   "source": [
    "Βλέπε αρχείο autoencoder.py"
   ]
  },
  {
   "cell_type": "markdown",
   "id": "d111f436",
   "metadata": {},
   "source": [
    "# Classification using K - Means"
   ]
  },
  {
   "cell_type": "code",
   "execution_count": 50,
   "id": "91cbe8be",
   "metadata": {},
   "outputs": [],
   "source": [
    "def cal_for_purity(row):\n",
    "    counter_matrix = [0, 0, 0, 0, 0, 0, 0, 0, 0, 0]\n",
    "    for i in row:\n",
    "        if(i>= 0 and i < 50):\n",
    "            counter_matrix[0] = counter_matrix[0] + 1\n",
    "        elif (i>= 50 and i < 100):\n",
    "            counter_matrix[1] = counter_matrix[1] + 1\n",
    "        elif (i>= 100 and i < 150):\n",
    "            counter_matrix[2] = counter_matrix[2] + 1\n",
    "        elif (i>= 150 and i < 200):\n",
    "            counter_matrix[3] = counter_matrix[3] + 1\n",
    "        elif (i>= 200 and i < 250):\n",
    "            counter_matrix[4] = counter_matrix[4] + 1\n",
    "        elif (i>= 250 and i < 300):\n",
    "            counter_matrix[5] = counter_matrix[5] + 1\n",
    "        elif (i>= 300 and i < 350):\n",
    "            counter_matrix[6] = counter_matrix[6] + 1\n",
    "        elif (i>= 350 and i < 400):\n",
    "            counter_matrix[7] = counter_matrix[7] + 1\n",
    "        elif (i>= 400 and i < 450):\n",
    "            counter_matrix[8] = counter_matrix[8] + 1\n",
    "        else:\n",
    "            counter_matrix[9] = counter_matrix[9] + 1\n",
    "    return max(counter_matrix)"
   ]
  },
  {
   "cell_type": "code",
   "execution_count": 51,
   "id": "095db566",
   "metadata": {},
   "outputs": [],
   "source": [
    "def metrics(predictions):\n",
    "    purity = 0\n",
    "    total_fa = 0\n",
    "    for i in range(10):\n",
    "\n",
    "        row = np.where(predictions==i)[0]  # row in predictions for elements of cluster i\n",
    "        num = row.shape[0]       #  number of elements for each cluster\n",
    "        r = np.floor(num/10.)    # number of rows in the figure of the cluster \n",
    "\n",
    "        major_cat = cal_for_purity(row)\n",
    "        purity = purity + major_cat\n",
    "        true_positives = major_cat\n",
    "        false_postives = num - true_positives\n",
    "        false_negatives = 50 - true_positives\n",
    "        precision = true_positives / (true_positives + false_postives)\n",
    "        recall = true_positives / (true_positives + false_negatives)\n",
    "        a = 1\n",
    "        fa = (1 + a) / ((1 / precision) + (a / recall))\n",
    "        total_fa = total_fa + fa\n",
    "\n",
    "    print(\"Purity = \" + str(purity/500))\n",
    "    print(\"Fa = \" + str(total_fa))"
   ]
  },
  {
   "cell_type": "code",
   "execution_count": 52,
   "id": "380b5b30",
   "metadata": {
    "scrolled": true
   },
   "outputs": [
    {
     "name": "stdout",
     "output_type": "stream",
     "text": [
      "Purity = 0.272\n",
      "Fa = 2.727878098551799\n"
     ]
    }
   ],
   "source": [
    "kmeans = KMeans(n_clusters=10).fit(pca_100)\n",
    "predictions = kmeans.predict(pca_100)\n",
    "metrics(predictions)"
   ]
  },
  {
   "cell_type": "code",
   "execution_count": 53,
   "id": "6f62cd6e",
   "metadata": {},
   "outputs": [
    {
     "name": "stdout",
     "output_type": "stream",
     "text": [
      "Purity = 0.284\n",
      "Fa = 2.8189048722757777\n"
     ]
    }
   ],
   "source": [
    "kmeans = KMeans(n_clusters=10).fit(pca_50)\n",
    "predictions = kmeans.predict(pca_50)\n",
    "metrics(predictions)"
   ]
  },
  {
   "cell_type": "code",
   "execution_count": 54,
   "id": "ea7fe812",
   "metadata": {},
   "outputs": [
    {
     "name": "stdout",
     "output_type": "stream",
     "text": [
      "Purity = 0.254\n",
      "Fa = 2.566510698254261\n"
     ]
    }
   ],
   "source": [
    "kmeans = KMeans(n_clusters=10).fit(pca_25)\n",
    "predictions = kmeans.predict(pca_25)\n",
    "metrics(predictions)"
   ]
  },
  {
   "cell_type": "markdown",
   "id": "f14ea0f2",
   "metadata": {},
   "source": [
    "# Agglomerative Hierarchical Clustering "
   ]
  },
  {
   "cell_type": "code",
   "execution_count": 55,
   "id": "9da475b1",
   "metadata": {
    "scrolled": true
   },
   "outputs": [
    {
     "name": "stdout",
     "output_type": "stream",
     "text": [
      "Purity = 0.266\n",
      "Fa = 2.590245155205283\n"
     ]
    }
   ],
   "source": [
    "predictions = AgglomerativeClustering(n_clusters=10, affinity='euclidean', linkage='ward').fit_predict(pca_100)\n",
    "metrics(predictions)"
   ]
  },
  {
   "cell_type": "code",
   "execution_count": 56,
   "id": "06f5701e",
   "metadata": {},
   "outputs": [
    {
     "name": "stdout",
     "output_type": "stream",
     "text": [
      "Purity = 0.254\n",
      "Fa = 2.474659295177248\n"
     ]
    }
   ],
   "source": [
    "predictions = AgglomerativeClustering(n_clusters=10, affinity='euclidean', linkage='ward').fit_predict(pca_50)\n",
    "metrics(predictions)"
   ]
  },
  {
   "cell_type": "code",
   "execution_count": 57,
   "id": "7068e937",
   "metadata": {},
   "outputs": [
    {
     "name": "stdout",
     "output_type": "stream",
     "text": [
      "Purity = 0.264\n",
      "Fa = 2.5279050204670668\n"
     ]
    }
   ],
   "source": [
    "predictions = AgglomerativeClustering(n_clusters=10, affinity='euclidean', linkage='ward').fit_predict(pca_25)\n",
    "metrics(predictions)"
   ]
  }
 ],
 "metadata": {
  "kernelspec": {
   "display_name": "Python 3 (ipykernel)",
   "language": "python",
   "name": "python3"
  },
  "language_info": {
   "codemirror_mode": {
    "name": "ipython",
    "version": 3
   },
   "file_extension": ".py",
   "mimetype": "text/x-python",
   "name": "python",
   "nbconvert_exporter": "python",
   "pygments_lexer": "ipython3",
   "version": "3.9.7"
  }
 },
 "nbformat": 4,
 "nbformat_minor": 5
}
